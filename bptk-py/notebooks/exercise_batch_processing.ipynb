{
 "cells": [
  {
   "cell_type": "markdown",
   "metadata": {},
   "source": [
    "# Exercise: Write some batch processing code"
   ]
  },
  {
   "cell_type": "markdown",
   "metadata": {},
   "source": [
    "## Set correct directory"
   ]
  },
  {
   "cell_type": "code",
   "execution_count": 1,
   "metadata": {},
   "outputs": [
    {
     "name": "stdout",
     "output_type": "stream",
     "text": [
      "/bptk-py\n"
     ]
    }
   ],
   "source": [
    "cd .."
   ]
  },
  {
   "cell_type": "markdown",
   "metadata": {},
   "source": [
    "## Import libraries"
   ]
  },
  {
   "cell_type": "code",
   "execution_count": 2,
   "metadata": {},
   "outputs": [],
   "source": [
    "import pandas as pd\n",
    "import csv\n",
    "import json\n",
    "import time\n",
    "import datetime\n",
    "import pickle\n",
    "from elasticsearch import Elasticsearch\n",
    "import os.path\n",
    "from src.config.conf import width,height\n",
    "from src.setup import setup_model\n",
    "from ipywidgets import widgets\n",
    "from ipywidgets import IntSlider"
   ]
  },
  {
   "cell_type": "markdown",
   "metadata": {},
   "source": [
    "## Obtain Number Of Taxis"
   ]
  },
  {
   "cell_type": "code",
   "execution_count": 3,
   "metadata": {},
   "outputs": [
    {
     "data": {
      "text/plain": [
       "3"
      ]
     },
     "execution_count": 3,
     "metadata": {},
     "output_type": "execute_result"
    }
   ],
   "source": [
    "with open('scenarios/abm.json') as scenario_file:\n",
    "    abm = json.load(scenario_file)\n",
    "\n",
    "num_cars=abm[\"CARMODEL\"][\"scenarios\"][\"scenario\"][\"agents\"][1][\"count\"]\n",
    "num_cars"
   ]
  },
  {
   "cell_type": "markdown",
   "metadata": {},
   "source": [
    "## Current Simulation Time"
   ]
  },
  {
   "cell_type": "code",
   "execution_count": 5,
   "metadata": {},
   "outputs": [
    {
     "data": {
      "text/plain": [
       "10080"
      ]
     },
     "execution_count": 5,
     "metadata": {},
     "output_type": "execute_result"
    }
   ],
   "source": [
    "# read the time\n",
    "time_file_object = open(\"csv/sim_time.pickle\",'rb')  \n",
    "current_time = pickle.load(time_file_object)\n",
    "current_time"
   ]
  },
  {
   "cell_type": "markdown",
   "metadata": {},
   "source": [
    "## Reading and writing to Elasticsearch"
   ]
  },
  {
   "cell_type": "code",
   "execution_count": 7,
   "metadata": {},
   "outputs": [
    {
     "data": {
      "text/plain": [
       "{'took': 930,\n",
       " 'timed_out': False,\n",
       " '_shards': {'total': 1, 'successful': 1, 'skipped': 0, 'failed': 0},\n",
       " 'hits': {'total': {'value': 10000, 'relation': 'gte'},\n",
       "  'max_score': None,\n",
       "  'hits': []},\n",
       " 'aggregations': {'sum_profit': {'buckets': [{'key': '1.0-10.0',\n",
       "     'from': 1.0,\n",
       "     'to': 10.0,\n",
       "     'doc_count': 9,\n",
       "     'sum_cost': {'value': 1.8000000268220901}}]}}}"
      ]
     },
     "execution_count": 7,
     "metadata": {},
     "output_type": "execute_result"
    }
   ],
   "source": [
    "es = Elasticsearch([{'host': 'es_node1', 'port': 9200}])\n",
    "\n",
    "## example elastic search query\n",
    "es.search(index=\"1_car\",body={\"size\": 0,\n",
    "                \"aggs\" : {\n",
    "                    \"sum_profit\" : {\n",
    "                        \"date_range\": {\n",
    "                            \"field\": \"time\",\n",
    "                            \"ranges\": [\n",
    "                                { \"from\": 1,\n",
    "                                  \"to\": 10 } \n",
    "                            ]\n",
    "                        },\n",
    "                        \"aggs\": {\n",
    "                            \"sum_cost\": {\n",
    "                              \"sum\": {\n",
    "                                \"field\": \"cost\"\n",
    "                              }\n",
    "                            }\n",
    "                        }\n",
    "                    }\n",
    "                }})"
   ]
  },
  {
   "cell_type": "code",
   "execution_count": 8,
   "metadata": {},
   "outputs": [
    {
     "data": {
      "text/plain": [
       "{'_index': 'test_index',\n",
       " '_type': '_doc',\n",
       " '_id': '59fajW4BT3mDCAC2q6UU',\n",
       " '_version': 1,\n",
       " 'result': 'created',\n",
       " '_shards': {'total': 2, 'successful': 1, 'failed': 0},\n",
       " '_seq_no': 0,\n",
       " '_primary_term': 1}"
      ]
     },
     "execution_count": 8,
     "metadata": {},
     "output_type": "execute_result"
    }
   ],
   "source": [
    "## writing to a (new) index\n",
    "\n",
    "es.index(index=\"test_index\", body={\"id\":\"123\",\"timestamp\": datetime.datetime.now(), \"name\":\"oliver grasl\"})"
   ]
  },
  {
   "cell_type": "markdown",
   "metadata": {},
   "source": [
    "## Calculate Batch Results"
   ]
  },
  {
   "cell_type": "markdown",
   "metadata": {},
   "source": [
    "Write some batch processing code that processes batches of 1440 entries (i.e. every 1440 timesteps) in each of the Elasticsearch *_car indexes and sends the following data strucutre to the corresponding *_car_batch index in Elasticsearch:\n",
    "\n",
    "```\n",
    "{\n",
    "    \"time\":current_sim_time, # current timestep\n",
    "    \"timestamp\": datetime.datetime.now(), # current time\n",
    "    \"id\":car_id, # car id\n",
    "    \"sum_revenue\":sum_revenue, # the sum of this cars revenue up to this timestep\n",
    "    \"sum_cost\":sum_cost, # the sum of this cars cost up to this timestep\n",
    "    \"profit\":sum_profit, # differnece bzw. revenue and cost\n",
    "    \"avg_sum_revenue\":avg_sum_revenue, # average revenue per timestep\n",
    "    \"avg_sum_cost\":avg_sum_cost, # average cost per timestep\n",
    "    \"avg_profit\":avg_sum_profit # average profit per timestep\n",
    "}\n",
    "```\n",
    "\n",
    "HINT: it takes some time for 1440 new entries to accumulate in the *_car indices ... so make sure you don't check the current simulation time too often."
   ]
  },
  {
   "cell_type": "code",
   "execution_count": null,
   "metadata": {},
   "outputs": [],
   "source": []
  }
 ],
 "metadata": {
  "kernelspec": {
   "display_name": "Python 3",
   "language": "python",
   "name": "python3"
  },
  "language_info": {
   "codemirror_mode": {
    "name": "ipython",
    "version": 3
   },
   "file_extension": ".py",
   "mimetype": "text/x-python",
   "name": "python",
   "nbconvert_exporter": "python",
   "pygments_lexer": "ipython3",
   "version": "3.6.8"
  }
 },
 "nbformat": 4,
 "nbformat_minor": 4
}
