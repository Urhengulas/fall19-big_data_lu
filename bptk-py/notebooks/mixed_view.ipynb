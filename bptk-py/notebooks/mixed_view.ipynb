{
 "cells": [
  {
   "cell_type": "markdown",
   "metadata": {},
   "source": [
    "# Mixed View"
   ]
  },
  {
   "cell_type": "markdown",
   "metadata": {},
   "source": [
    "## Set correct directory"
   ]
  },
  {
   "cell_type": "code",
   "execution_count": 1,
   "metadata": {},
   "outputs": [
    {
     "name": "stdout",
     "output_type": "stream",
     "text": [
      "/bptk-py\n"
     ]
    }
   ],
   "source": [
    "cd .."
   ]
  },
  {
   "cell_type": "markdown",
   "metadata": {},
   "source": [
    "## Import libraries"
   ]
  },
  {
   "cell_type": "code",
   "execution_count": 2,
   "metadata": {},
   "outputs": [],
   "source": [
    "import pandas as pd\n",
    "import time\n",
    "import pickle\n",
    "from elasticsearch import Elasticsearch\n",
    "import os.path"
   ]
  },
  {
   "cell_type": "markdown",
   "metadata": {},
   "source": [
    "## Batch View"
   ]
  },
  {
   "cell_type": "code",
   "execution_count": 3,
   "metadata": {},
   "outputs": [
    {
     "data": {
      "text/plain": [
       "{'time': 14400,\n",
       " '1_car': {'time': 14400,\n",
       "  'timestamp': datetime.datetime(2019, 11, 19, 20, 43, 36, 26875),\n",
       "  'id': 1,\n",
       "  'sum_revenue': 2870.640051037073,\n",
       "  'sum_cost': 4173.200163900852,\n",
       "  'profit': -1302.560112863779,\n",
       "  'avg_sum_revenue': 0.19935000354424118,\n",
       "  'avg_sum_cost': 0.28980556693755916,\n",
       "  'avg_profit': -0.09045556339331799},\n",
       " '2_car': {'time': 14400,\n",
       "  'timestamp': datetime.datetime(2019, 11, 19, 20, 43, 36, 487132),\n",
       "  'id': 2,\n",
       "  'sum_revenue': 2929.520051717758,\n",
       "  'sum_cost': 4174.100163966417,\n",
       "  'profit': -1244.5801122486591,\n",
       "  'avg_sum_revenue': 0.20343889248039987,\n",
       "  'avg_sum_cost': 0.2898680669421123,\n",
       "  'avg_profit': -0.08642917446171244},\n",
       " '3_car': {'time': 14400,\n",
       "  'timestamp': datetime.datetime(2019, 11, 19, 20, 43, 37, 518265),\n",
       "  'id': 3,\n",
       "  'sum_revenue': 2878.2000516057014,\n",
       "  'sum_cost': 4176.600164070725,\n",
       "  'profit': -1298.400112465024,\n",
       "  'avg_sum_revenue': 0.19987500358372925,\n",
       "  'avg_sum_cost': 0.29004167806046705,\n",
       "  'avg_profit': -0.09016667447673778}}"
      ]
     },
     "execution_count": 3,
     "metadata": {},
     "output_type": "execute_result"
    }
   ],
   "source": [
    "# simple query just unpickles the data\n",
    "data_file_object = open (\"csv/data.pickle\",'rb')\n",
    "data=pickle.load(data_file_object)\n",
    "data"
   ]
  },
  {
   "cell_type": "code",
   "execution_count": 36,
   "metadata": {},
   "outputs": [
    {
     "data": {
      "text/plain": [
       "21600"
      ]
     },
     "execution_count": 36,
     "metadata": {},
     "output_type": "execute_result"
    }
   ],
   "source": [
    "time_file_object = open(\"csv/sim_time.pickle\",'rb')  \n",
    "current_time = pickle.load(time_file_object)\n",
    "current_time"
   ]
  },
  {
   "cell_type": "markdown",
   "metadata": {},
   "source": [
    "## Real Time View"
   ]
  },
  {
   "cell_type": "markdown",
   "metadata": {},
   "source": [
    "## Mixed Query Using Batch and Real Time Views"
   ]
  },
  {
   "cell_type": "code",
   "execution_count": 37,
   "metadata": {},
   "outputs": [],
   "source": [
    "es = Elasticsearch([{'host': 'es_node1', 'port': 9200}])\n",
    "\n",
    "query_time = 21533\n",
    "# find smallest multiple of 1440 less than query time\n",
    "\n",
    "batch_time = 1440*(query_time//1440)\n",
    "rt_time = query_time-batch_time\n",
    "\n",
    "batch_result = es.search(index=\"1_car_batch\",body={\"size\": 0,\n",
    "                \"aggs\" : {\n",
    "                    \"revenue\" : {\n",
    "                        \"date_range\": {\n",
    "                            \"field\": \"time\",\n",
    "                            \"ranges\": [\n",
    "                                { \"from\": batch_time,\n",
    "                                  \"to\": batch_time+1 } \n",
    "                            ]\n",
    "                        },\n",
    "                        \"aggs\": {\n",
    "                            \"total_revenue\": {\n",
    "                              \"sum\": {\n",
    "                                \"field\": \"sum_revenue\"\n",
    "                              }\n",
    "                            }\n",
    "                        }\n",
    "                    }\n",
    "                }})\n",
    "\n",
    "rt_result = es.search(index=\"1_car\",body={\"size\": 0,\n",
    "                \"aggs\" : {\n",
    "                    \"revenue\" : {\n",
    "                        \"date_range\": {\n",
    "                            \"field\": \"time\",\n",
    "                            \"ranges\": [\n",
    "                                { \"from\": batch_time+1,\n",
    "                                  \"to\": batch_time+rt_time+1 } \n",
    "                            ]\n",
    "                        },\n",
    "                        \"aggs\": {\n",
    "                            \"total_revenue\": {\n",
    "                              \"sum\": {\n",
    "                                \"field\": \"revenue\"\n",
    "                              }\n",
    "                            }\n",
    "                        }\n",
    "                    }\n",
    "                }})\n",
    "\n",
    "full_scan_result = es.search(index=\"1_car\",body={\"size\": 0,\n",
    "                \"aggs\" : {\n",
    "                    \"revenue\" : {\n",
    "                        \"date_range\": {\n",
    "                            \"field\": \"time\",\n",
    "                            \"ranges\": [\n",
    "                                { \"from\": 0,\n",
    "                                  \"to\": batch_time+rt_time+1 } \n",
    "                            ]\n",
    "                        },\n",
    "                        \"aggs\": {\n",
    "                            \"total_revenue\": {\n",
    "                              \"sum\": {\n",
    "                                \"field\": \"revenue\"\n",
    "                              }\n",
    "                            }\n",
    "                        }\n",
    "                    }\n",
    "                }})\n",
    "\n",
    "car_result = es.search(index=\"1_car\",body={\"size\": 0,\n",
    "                \"aggs\" : {\n",
    "                    \"revenue\" : {\n",
    "                        \"date_range\": {\n",
    "                            \"field\": \"time\",\n",
    "                            \"ranges\": [\n",
    "                                { \"from\": batch_time+rt_time,\n",
    "                                  \"to\": batch_time+rt_time+1 } \n",
    "                            ]\n",
    "                        },\n",
    "                        \"aggs\": {\n",
    "                            \"total_revenue\": {\n",
    "                              \"sum\": {\n",
    "                                \"field\": \"total_revenue\"\n",
    "                              }\n",
    "                            }\n",
    "                        }\n",
    "                    }\n",
    "                }})\n",
    "\n",
    "difference = full_scan_result[\"aggregations\"][\"revenue\"][\"buckets\"][0][\"total_revenue\"][\"value\"] - batch_result[\"aggregations\"][\"revenue\"][\"buckets\"][0][\"total_revenue\"][\"value\"]- rt_result[\"aggregations\"][\"revenue\"][\"buckets\"][0][\"total_revenue\"][\"value\"]"
   ]
  },
  {
   "cell_type": "code",
   "execution_count": 38,
   "metadata": {},
   "outputs": [
    {
     "data": {
      "text/plain": [
       "{'took': 7,\n",
       " 'timed_out': False,\n",
       " '_shards': {'total': 1, 'successful': 1, 'skipped': 0, 'failed': 0},\n",
       " 'hits': {'total': {'value': 15, 'relation': 'eq'},\n",
       "  'max_score': None,\n",
       "  'hits': []},\n",
       " 'aggregations': {'revenue': {'buckets': [{'key': '20160.0-20161.0',\n",
       "     'from': 20160.0,\n",
       "     'to': 20161.0,\n",
       "     'doc_count': 1,\n",
       "     'total_revenue': {'value': 3000.679931640625}}]}}}"
      ]
     },
     "execution_count": 38,
     "metadata": {},
     "output_type": "execute_result"
    }
   ],
   "source": [
    "batch_result"
   ]
  },
  {
   "cell_type": "code",
   "execution_count": 39,
   "metadata": {},
   "outputs": [
    {
     "data": {
      "text/plain": [
       "{'took': 274,\n",
       " 'timed_out': False,\n",
       " '_shards': {'total': 1, 'successful': 1, 'skipped': 0, 'failed': 0},\n",
       " 'hits': {'total': {'value': 10000, 'relation': 'gte'},\n",
       "  'max_score': None,\n",
       "  'hits': []},\n",
       " 'aggregations': {'revenue': {'buckets': [{'key': '20161.0-21534.0',\n",
       "     'from': 20161.0,\n",
       "     'to': 21534.0,\n",
       "     'doc_count': 1373,\n",
       "     'total_revenue': {'value': 0.0}}]}}}"
      ]
     },
     "execution_count": 39,
     "metadata": {},
     "output_type": "execute_result"
    }
   ],
   "source": [
    "rt_result"
   ]
  },
  {
   "cell_type": "code",
   "execution_count": 40,
   "metadata": {},
   "outputs": [
    {
     "data": {
      "text/plain": [
       "{'took': 5,\n",
       " 'timed_out': False,\n",
       " '_shards': {'total': 1, 'successful': 1, 'skipped': 0, 'failed': 0},\n",
       " 'hits': {'total': {'value': 10000, 'relation': 'gte'},\n",
       "  'max_score': None,\n",
       "  'hits': []},\n",
       " 'aggregations': {'revenue': {'buckets': [{'key': '0.0-21534.0',\n",
       "     'from': 0.0,\n",
       "     'to': 21534.0,\n",
       "     'doc_count': 21533,\n",
       "     'total_revenue': {'value': 3000.6800533235073}}]}}}"
      ]
     },
     "execution_count": 40,
     "metadata": {},
     "output_type": "execute_result"
    }
   ],
   "source": [
    "full_scan_result"
   ]
  },
  {
   "cell_type": "code",
   "execution_count": 41,
   "metadata": {},
   "outputs": [
    {
     "data": {
      "text/plain": [
       "0.00012168288230895996"
      ]
     },
     "execution_count": 41,
     "metadata": {},
     "output_type": "execute_result"
    }
   ],
   "source": [
    "difference"
   ]
  },
  {
   "cell_type": "code",
   "execution_count": 42,
   "metadata": {},
   "outputs": [
    {
     "data": {
      "text/plain": [
       "{'took': 2,\n",
       " 'timed_out': False,\n",
       " '_shards': {'total': 1, 'successful': 1, 'skipped': 0, 'failed': 0},\n",
       " 'hits': {'total': {'value': 10000, 'relation': 'gte'},\n",
       "  'max_score': None,\n",
       "  'hits': []},\n",
       " 'aggregations': {'revenue': {'buckets': [{'key': '21533.0-21534.0',\n",
       "     'from': 21533.0,\n",
       "     'to': 21534.0,\n",
       "     'doc_count': 1,\n",
       "     'total_revenue': {'value': 3000.679931640625}}]}}}"
      ]
     },
     "execution_count": 42,
     "metadata": {},
     "output_type": "execute_result"
    }
   ],
   "source": [
    "car_result"
   ]
  },
  {
   "cell_type": "code",
   "execution_count": null,
   "metadata": {},
   "outputs": [],
   "source": []
  }
 ],
 "metadata": {
  "kernelspec": {
   "display_name": "Python 3",
   "language": "python",
   "name": "python3"
  },
  "language_info": {
   "codemirror_mode": {
    "name": "ipython",
    "version": 3
   },
   "file_extension": ".py",
   "mimetype": "text/x-python",
   "name": "python",
   "nbconvert_exporter": "python",
   "pygments_lexer": "ipython3",
   "version": "3.6.8"
  }
 },
 "nbformat": 4,
 "nbformat_minor": 4
}
