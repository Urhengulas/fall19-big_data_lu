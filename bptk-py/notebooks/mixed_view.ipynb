{
 "cells": [
  {
   "cell_type": "markdown",
   "metadata": {},
   "source": [
    "# Mixed View"
   ]
  },
  {
   "cell_type": "markdown",
   "metadata": {},
   "source": [
    "## Set correct directory"
   ]
  },
  {
   "cell_type": "code",
   "execution_count": 1,
   "metadata": {},
   "outputs": [
    {
     "name": "stdout",
     "output_type": "stream",
     "text": [
      "/bptk-py\n"
     ]
    }
   ],
   "source": [
    "cd .."
   ]
  },
  {
   "cell_type": "markdown",
   "metadata": {},
   "source": [
    "## Import libraries"
   ]
  },
  {
   "cell_type": "code",
   "execution_count": 52,
   "metadata": {},
   "outputs": [],
   "source": [
    "import pandas as pd\n",
    "import time\n",
    "import pickle\n",
    "import json\n",
    "from elasticsearch import Elasticsearch\n",
    "import os.path\n",
    "from ipywidgets import widgets\n",
    "from ipywidgets import interact, interactive, fixed, interact_manual\n",
    "from ipywidgets import IntSlider"
   ]
  },
  {
   "cell_type": "markdown",
   "metadata": {},
   "source": [
    "## Example Query of the batch index"
   ]
  },
  {
   "cell_type": "code",
   "execution_count": 114,
   "metadata": {},
   "outputs": [
    {
     "data": {
      "text/plain": [
       "{'took': 444,\n",
       " 'timed_out': False,\n",
       " '_shards': {'total': 1, 'successful': 1, 'skipped': 0, 'failed': 0},\n",
       " 'hits': {'total': {'value': 25, 'relation': 'eq'},\n",
       "  'max_score': None,\n",
       "  'hits': []},\n",
       " 'aggregations': {'revenue': {'buckets': [{'key': '1440.0-1441.0',\n",
       "     'from': 1440.0,\n",
       "     'to': 1441.0,\n",
       "     'doc_count': 1,\n",
       "     'total_revenue': {'value': 256.3999938964844}}]}}}"
      ]
     },
     "execution_count": 114,
     "metadata": {},
     "output_type": "execute_result"
    }
   ],
   "source": [
    "es = Elasticsearch([{'host': 'es_node1', 'port': 9200}])\n",
    "es.search(index=\"1_car_batch\",body={\"size\": 0,\n",
    "                \"aggs\" : {\n",
    "                    \"revenue\" : {\n",
    "                        \"date_range\": {\n",
    "                            \"field\": \"time\",\n",
    "                            \"ranges\": [\n",
    "                                { \"from\": 1440,\n",
    "                                  \"to\": 1441 } \n",
    "                            ]\n",
    "                        },\n",
    "                        \"aggs\": {\n",
    "                            \"total_revenue\": {\n",
    "                              \"sum\": {\n",
    "                                \"field\": \"sum_revenue\"\n",
    "                              }\n",
    "                            }\n",
    "                        }\n",
    "                    }\n",
    "                }})"
   ]
  },
  {
   "cell_type": "markdown",
   "metadata": {},
   "source": [
    "## Mixed Query Function"
   ]
  },
  {
   "cell_type": "code",
   "execution_count": 165,
   "metadata": {},
   "outputs": [],
   "source": [
    "def es_mixed_query(car_index,query_time):\n",
    "    es = Elasticsearch([{'host': 'es_node1', 'port': 9200}])\n",
    "\n",
    "    # find smallest multiple of 1440 less than query time\n",
    "\n",
    "    batch_time = 1440*(query_time//1440)\n",
    "    rt_time = query_time-batch_time\n",
    "\n",
    "    batch_result = es.search(index=car_index+\"_batch\",body={\"size\": 0,\n",
    "                    \"aggs\" : {\n",
    "                        \"revenue\" : {\n",
    "                            \"date_range\": {\n",
    "                                \"field\": \"time\",\n",
    "                                \"ranges\": [\n",
    "                                    { \"from\": batch_time,\n",
    "                                      \"to\": batch_time+1 } \n",
    "                                ]\n",
    "                            },\n",
    "                            \"aggs\": {\n",
    "                                \"total_revenue\": {\n",
    "                                  \"sum\": {\n",
    "                                    \"field\": \"sum_revenue\"\n",
    "                                  }\n",
    "                                }\n",
    "                            }\n",
    "                        }\n",
    "                    }})\n",
    "\n",
    "    rt_result = es.search(index=car_index,body={\"size\": 0,\n",
    "                    \"aggs\" : {\n",
    "                        \"revenue\" : {\n",
    "                            \"date_range\": {\n",
    "                                \"field\": \"time\",\n",
    "                                \"ranges\": [\n",
    "                                    { \"from\": batch_time+1,\n",
    "                                      \"to\": batch_time+rt_time+1 } \n",
    "                                ]\n",
    "                            },\n",
    "                            \"aggs\": {\n",
    "                                \"total_revenue\": {\n",
    "                                  \"sum\": {\n",
    "                                    \"field\": \"revenue\"\n",
    "                                  }\n",
    "                                }\n",
    "                            }\n",
    "                        }\n",
    "                    }})\n",
    "\n",
    "    full_scan_result = es.search(index=car_index,body={\"size\": 0,\n",
    "                    \"aggs\" : {\n",
    "                        \"revenue\" : {\n",
    "                            \"date_range\": {\n",
    "                                \"field\": \"time\",\n",
    "                                \"ranges\": [\n",
    "                                    { \"from\": 0,\n",
    "                                      \"to\": batch_time+rt_time+1} \n",
    "                                ]\n",
    "                            },\n",
    "                            \"aggs\": {\n",
    "                                \"total_revenue\": {\n",
    "                                  \"sum\": {\n",
    "                                    \"field\": \"revenue\"\n",
    "                                  }\n",
    "                                }\n",
    "                            }\n",
    "                        }\n",
    "                    }})\n",
    "\n",
    "    car_result = es.search(index=car_index,body={\"size\": 0,\n",
    "                    \"aggs\" : {\n",
    "                        \"revenue\" : {\n",
    "                            \"date_range\": {\n",
    "                                \"field\": \"time\",\n",
    "                                \"ranges\": [\n",
    "                                    { \"from\": batch_time+rt_time,\n",
    "                                      \"to\": batch_time+rt_time+1 } \n",
    "                                ]\n",
    "                            },\n",
    "                            \"aggs\": {\n",
    "                                \"total_revenue\": {\n",
    "                                  \"sum\": {\n",
    "                                    \"field\": \"total_revenue\"\n",
    "                                  }\n",
    "                                }\n",
    "                            }\n",
    "                        }\n",
    "                    }})\n",
    "\n",
    "    \n",
    "    batch_result_value = batch_result[\"aggregations\"][\"revenue\"][\"buckets\"][0][\"total_revenue\"][\"value\"]\n",
    "    rt_result_value = rt_result[\"aggregations\"][\"revenue\"][\"buckets\"][0][\"total_revenue\"][\"value\"]\n",
    "    full_scan_result_value = full_scan_result[\"aggregations\"][\"revenue\"][\"buckets\"][0][\"total_revenue\"][\"value\"]\n",
    "    car_result_value= car_result[\"aggregations\"][\"revenue\"][\"buckets\"][0][\"total_revenue\"][\"value\"]\n",
    "    mixed_result_value = batch_result_value+ rt_result_value\n",
    "    difference_mixed_full_scan = full_scan_result_value - mixed_result_value\n",
    "    difference_mixed_car = car_result_value - mixed_result_value\n",
    "    print(\"Mixed result: \"+str(mixed_result_value))\n",
    "    print(\"Car result: \"+str(car_result_value))\n",
    "    print(\"Full scan result: \"+str(full_scan_result_value))\n",
    "    print(\"Difference Mixed/Full Scan: \"+str( difference_mixed_full_scan))\n",
    "    print(\"Difference Mixed/Car: \"+str( difference_mixed_car))"
   ]
  },
  {
   "cell_type": "code",
   "execution_count": 161,
   "metadata": {},
   "outputs": [
    {
     "name": "stdout",
     "output_type": "stream",
     "text": [
      "Mixed result: 2449.0400390625\n",
      "Car result: 2449.0400390625\n",
      "Full scan result: 2449.0400394797325\n",
      "Difference: 4.172325134277344e-07\n"
     ]
    }
   ],
   "source": [
    "es_mixed_query(\"1_car\",14400)"
   ]
  },
  {
   "cell_type": "code",
   "execution_count": 149,
   "metadata": {},
   "outputs": [
    {
     "data": {
      "text/plain": [
       "2880"
      ]
     },
     "execution_count": 149,
     "metadata": {},
     "output_type": "execute_result"
    }
   ],
   "source": [
    " 1440*(2880//1440)"
   ]
  },
  {
   "cell_type": "markdown",
   "metadata": {},
   "source": [
    "## Mixed Query Using Batch and Real Time Views"
   ]
  },
  {
   "cell_type": "code",
   "execution_count": 166,
   "metadata": {},
   "outputs": [
    {
     "data": {
      "application/vnd.jupyter.widget-view+json": {
       "model_id": "10bcf56dd99d465fae1b632deca2e385",
       "version_major": 2,
       "version_minor": 0
      },
      "text/plain": [
       "Dropdown(description='choose car:', options=(('1_car', '1_car'), ('2_car', '2_car'), ('3_car', '3_car')), valu…"
      ]
     },
     "metadata": {},
     "output_type": "display_data"
    },
    {
     "data": {
      "application/vnd.jupyter.widget-view+json": {
       "model_id": "b169f5b75a0e4afca85a736db110637e",
       "version_major": 2,
       "version_minor": 0
      },
      "text/plain": [
       "IntSlider(value=0, description='query time:', max=46080)"
      ]
     },
     "metadata": {},
     "output_type": "display_data"
    },
    {
     "data": {
      "application/vnd.jupyter.widget-view+json": {
       "model_id": "a4aa9d4045414c5da3fd29e085d9cd37",
       "version_major": 2,
       "version_minor": 0
      },
      "text/plain": [
       "Button(description='Run Query', style=ButtonStyle())"
      ]
     },
     "metadata": {},
     "output_type": "display_data"
    },
    {
     "data": {
      "application/vnd.jupyter.widget-view+json": {
       "model_id": "cac786ad97f3414282afdfeff6cffedb",
       "version_major": 2,
       "version_minor": 0
      },
      "text/plain": [
       "Button(description='Refresh', style=ButtonStyle())"
      ]
     },
     "metadata": {},
     "output_type": "display_data"
    },
    {
     "data": {
      "application/vnd.jupyter.widget-view+json": {
       "model_id": "276861d9229047c6ae2fcd2922fa8298",
       "version_major": 2,
       "version_minor": 0
      },
      "text/plain": [
       "Output()"
      ]
     },
     "metadata": {},
     "output_type": "display_data"
    }
   ],
   "source": [
    "# read last batch processing time\n",
    "time_file_object = open(\"csv/sim_time.pickle\",'rb')  \n",
    "last_batch_processing_time = pickle.load(time_file_object)\n",
    "\n",
    "# obtain number of cars\n",
    "with open('scenarios/abm.json') as scenario_file:\n",
    "    abm = json.load(scenario_file)\n",
    "\n",
    "num_cars=abm[\"CARMODEL\"][\"scenarios\"][\"scenario\"][\"agents\"][1][\"count\"]\n",
    "car_tuples = [(str(i)+\"_car\",str(i)+\"_car\") for i in range(1,num_cars+1)]\n",
    "\n",
    "car_index=widgets.Dropdown(\n",
    "    options=car_tuples,\n",
    "    value='1_car',\n",
    "    description='choose car:'\n",
    ")\n",
    "\n",
    "query_time=widgets.IntSlider(min=0, max=last_batch_processing_time+1440, step=1, description='query time:')\n",
    "\n",
    "run_button = widgets.Button(description=\"Run Query\")\n",
    "refresh_button = widgets.Button(description=\"Refresh\")\n",
    "\n",
    "output = widgets.Output()\n",
    "\n",
    "display(car_index,query_time,run_button,refresh_button,output)\n",
    "\n",
    "def on_run_clicked(b):\n",
    "    with output:\n",
    "        output.clear_output()\n",
    "        es_mixed_query(car_index.value,query_time.value)\n",
    "    \n",
    "def on_refresh_clicked(b):\n",
    "    with output:\n",
    "        output.clear_output()\n",
    "        time_file_object = open(\"csv/sim_time.pickle\",'rb')  \n",
    "        last_batch_processing_time = pickle.load(time_file_object)\n",
    "        query_time.max=last_batch_processing_time+1440\n",
    "        \n",
    "\n",
    "run_button.on_click(on_run_clicked)\n",
    "refresh_button.on_click(on_refresh_clicked)"
   ]
  },
  {
   "cell_type": "code",
   "execution_count": null,
   "metadata": {},
   "outputs": [],
   "source": []
  }
 ],
 "metadata": {
  "kernelspec": {
   "display_name": "Python 3",
   "language": "python",
   "name": "python3"
  },
  "language_info": {
   "codemirror_mode": {
    "name": "ipython",
    "version": 3
   },
   "file_extension": ".py",
   "mimetype": "text/x-python",
   "name": "python",
   "nbconvert_exporter": "python",
   "pygments_lexer": "ipython3",
   "version": "3.6.8"
  }
 },
 "nbformat": 4,
 "nbformat_minor": 4
}
