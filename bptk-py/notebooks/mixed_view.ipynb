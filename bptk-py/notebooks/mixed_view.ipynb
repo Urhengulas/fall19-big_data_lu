{
 "cells": [
  {
   "cell_type": "markdown",
   "metadata": {},
   "source": [
    "# Mixed View"
   ]
  },
  {
   "cell_type": "markdown",
   "metadata": {},
   "source": [
    "## Set correct directory"
   ]
  },
  {
   "cell_type": "code",
   "execution_count": 1,
   "metadata": {},
   "outputs": [
    {
     "name": "stdout",
     "output_type": "stream",
     "text": [
      "/bptk-py\n"
     ]
    }
   ],
   "source": [
    "cd .."
   ]
  },
  {
   "cell_type": "markdown",
   "metadata": {},
   "source": [
    "## Import libraries"
   ]
  },
  {
   "cell_type": "code",
   "execution_count": 2,
   "metadata": {},
   "outputs": [],
   "source": [
    "import pandas as pd\n",
    "import csv\n",
    "import time\n",
    "import pickle\n",
    "from elasticsearch import Elasticsearch\n",
    "import os.path\n",
    "from src.config.conf import width,height\n",
    "from src.setup import setup_model\n",
    "from ipywidgets import widgets\n",
    "from ipywidgets import IntSlider"
   ]
  },
  {
   "cell_type": "markdown",
   "metadata": {},
   "source": [
    "## Batch View"
   ]
  },
  {
   "cell_type": "code",
   "execution_count": 4,
   "metadata": {},
   "outputs": [
    {
     "data": {
      "text/plain": [
       "{'time': 8640,\n",
       " '1_car': {'time': 8640,\n",
       "  'sum_revenue': 1706.2400325238705,\n",
       "  'sum_cost': 2505.2000983059406,\n",
       "  'profit': -798.9600657820702,\n",
       "  'avg_sum_revenue': 0.19748148524581835,\n",
       "  'avg_sum_cost': 0.2899537150817061,\n",
       "  'avg_profit': -0.09247222983588775},\n",
       " '2_car': {'time': 8640,\n",
       "  'sum_revenue': 912.4400173425674,\n",
       "  'sum_cost': 1436.000056385994,\n",
       "  'profit': -523.5600390434265,\n",
       "  'avg_sum_revenue': 0.10560648348872308,\n",
       "  'avg_sum_cost': 0.1662037102298604,\n",
       "  'avg_profit': -0.06059722674113733},\n",
       " '3_car': {'time': 8640,\n",
       "  'sum_revenue': 1733.6000337004662,\n",
       "  'sum_cost': 2502.600098192692,\n",
       "  'profit': -769.0000644922256,\n",
       "  'avg_sum_revenue': 0.20064815204866507,\n",
       "  'avg_sum_cost': 0.2896527891426727,\n",
       "  'avg_profit': -0.0890046370940076}}"
      ]
     },
     "execution_count": 4,
     "metadata": {},
     "output_type": "execute_result"
    }
   ],
   "source": [
    "# simple query just unpickles the data\n",
    "data_file_object = open (\"csv/data.pickle\",'rb')\n",
    "data=pickle.load(data_file_object)\n",
    "data"
   ]
  },
  {
   "cell_type": "code",
   "execution_count": 4,
   "metadata": {},
   "outputs": [
    {
     "data": {
      "text/plain": [
       "8640"
      ]
     },
     "execution_count": 4,
     "metadata": {},
     "output_type": "execute_result"
    }
   ],
   "source": [
    "time_file_object = open(\"csv/sim_time.pickle\",'rb')  \n",
    "current_time = pickle.load(time_file_object)\n",
    "current_time"
   ]
  },
  {
   "cell_type": "markdown",
   "metadata": {},
   "source": [
    "## Real Time View"
   ]
  },
  {
   "cell_type": "code",
   "execution_count": null,
   "metadata": {},
   "outputs": [],
   "source": []
  },
  {
   "cell_type": "markdown",
   "metadata": {},
   "source": [
    "## Mixed Query Using Batch and Real Time Views"
   ]
  },
  {
   "cell_type": "code",
   "execution_count": null,
   "metadata": {},
   "outputs": [],
   "source": []
  }
 ],
 "metadata": {
  "kernelspec": {
   "display_name": "Python 3",
   "language": "python",
   "name": "python3"
  },
  "language_info": {
   "codemirror_mode": {
    "name": "ipython",
    "version": 3
   },
   "file_extension": ".py",
   "mimetype": "text/x-python",
   "name": "python",
   "nbconvert_exporter": "python",
   "pygments_lexer": "ipython3",
   "version": "3.6.8"
  }
 },
 "nbformat": 4,
 "nbformat_minor": 4
}
