{
 "cells": [
  {
   "cell_type": "markdown",
   "metadata": {},
   "source": [
    "# Exercise: Bild a Mixed View"
   ]
  },
  {
   "cell_type": "markdown",
   "metadata": {},
   "source": [
    "## Set correct directory"
   ]
  },
  {
   "cell_type": "code",
   "execution_count": 1,
   "metadata": {},
   "outputs": [
    {
     "name": "stdout",
     "output_type": "stream",
     "text": [
      "/bptk-py\n"
     ]
    }
   ],
   "source": [
    "cd .."
   ]
  },
  {
   "cell_type": "markdown",
   "metadata": {},
   "source": [
    "## Import libraries"
   ]
  },
  {
   "cell_type": "code",
   "execution_count": 3,
   "metadata": {},
   "outputs": [],
   "source": [
    "import pandas as pd\n",
    "import time\n",
    "import pickle\n",
    "import json\n",
    "from elasticsearch import Elasticsearch\n",
    "import os.path\n",
    "from ipywidgets import widgets\n",
    "from ipywidgets import interact, interactive, fixed, interact_manual\n",
    "from ipywidgets import IntSlider"
   ]
  },
  {
   "cell_type": "markdown",
   "metadata": {},
   "source": [
    "## Example Query of the batch index"
   ]
  },
  {
   "cell_type": "code",
   "execution_count": 4,
   "metadata": {},
   "outputs": [
    {
     "data": {
      "text/plain": [
       "{'took': 392,\n",
       " 'timed_out': False,\n",
       " '_shards': {'total': 1, 'successful': 1, 'skipped': 0, 'failed': 0},\n",
       " 'hits': {'total': {'value': 11, 'relation': 'eq'},\n",
       "  'max_score': None,\n",
       "  'hits': []},\n",
       " 'aggregations': {'revenue': {'buckets': [{'key': '1440.0-1441.0',\n",
       "     'from': 1440.0,\n",
       "     'to': 1441.0,\n",
       "     'doc_count': 1,\n",
       "     'total_revenue': {'value': 253.60000610351562}}]}}}"
      ]
     },
     "execution_count": 4,
     "metadata": {},
     "output_type": "execute_result"
    }
   ],
   "source": [
    "es = Elasticsearch([{'host': 'es_node1', 'port': 9200}])\n",
    "es.search(index=\"1_car_batch\",body={\"size\": 0,\n",
    "                \"aggs\" : {\n",
    "                    \"revenue\" : {\n",
    "                        \"date_range\": {\n",
    "                            \"field\": \"time\",\n",
    "                            \"ranges\": [\n",
    "                                { \"from\": 1440,\n",
    "                                  \"to\": 1441 } \n",
    "                            ]\n",
    "                        },\n",
    "                        \"aggs\": {\n",
    "                            \"total_revenue\": {\n",
    "                              \"sum\": {\n",
    "                                \"field\": \"sum_revenue\"\n",
    "                              }\n",
    "                            }\n",
    "                        }\n",
    "                    }\n",
    "                }})"
   ]
  },
  {
   "cell_type": "markdown",
   "metadata": {},
   "source": [
    "## Mixed Query Function"
   ]
  },
  {
   "cell_type": "code",
   "execution_count": 8,
   "metadata": {},
   "outputs": [],
   "source": [
    "def es_mixed_query(car_index,query_time):\n",
    "    \n",
    "    # add your code here\n",
    "    print(\"please add your <CODE>\")\n",
    "    \n",
    "    batch_result_value = 0\n",
    "    rt_result_value =0\n",
    "    full_scan_result_value = 0\n",
    "    car_result_value = 0\n",
    "    mixed_result_value = batch_result_value+ rt_result_value\n",
    "    difference_mixed_full_scan = full_scan_result_value - mixed_result_value\n",
    "    difference_mixed_car = car_result_value - mixed_result_value\n",
    "    print(\"Mixed result: \"+str(mixed_result_value))\n",
    "    print(\"Car result: \"+str(car_result_value))\n",
    "    print(\"Full scan result: \"+str(full_scan_result_value))\n",
    "    print(\"Difference Mixed/Full Scan: \"+str( difference_mixed_full_scan))\n",
    "    print(\"Difference Mixed/Car: \"+str( difference_mixed_car))"
   ]
  },
  {
   "cell_type": "code",
   "execution_count": 6,
   "metadata": {},
   "outputs": [
    {
     "name": "stdout",
     "output_type": "stream",
     "text": [
      "Mixed result: 0\n",
      "Car result: 0\n",
      "Full scan result: 0\n",
      "Difference Mixed/Full Scan: 0\n",
      "Difference Mixed/Car: 0\n"
     ]
    }
   ],
   "source": [
    "es_mixed_query(\"1_car\",14400)"
   ]
  },
  {
   "cell_type": "markdown",
   "metadata": {},
   "source": [
    "## Mixed Query Using Batch and Real Time Views"
   ]
  },
  {
   "cell_type": "code",
   "execution_count": 7,
   "metadata": {},
   "outputs": [
    {
     "data": {
      "application/vnd.jupyter.widget-view+json": {
       "model_id": "072bf2690b0d4a68b150f98131befb57",
       "version_major": 2,
       "version_minor": 0
      },
      "text/plain": [
       "Dropdown(description='choose car:', options=(('1_car', '1_car'), ('2_car', '2_car'), ('3_car', '3_car')), valu…"
      ]
     },
     "metadata": {},
     "output_type": "display_data"
    },
    {
     "data": {
      "application/vnd.jupyter.widget-view+json": {
       "model_id": "bd8efd1299f44180b2bbb39cdc540fee",
       "version_major": 2,
       "version_minor": 0
      },
      "text/plain": [
       "IntSlider(value=0, description='query time:', max=17280)"
      ]
     },
     "metadata": {},
     "output_type": "display_data"
    },
    {
     "data": {
      "application/vnd.jupyter.widget-view+json": {
       "model_id": "97f21b9b4ebd4bec972018a6dd5d237e",
       "version_major": 2,
       "version_minor": 0
      },
      "text/plain": [
       "Button(description='Run Query', style=ButtonStyle())"
      ]
     },
     "metadata": {},
     "output_type": "display_data"
    },
    {
     "data": {
      "application/vnd.jupyter.widget-view+json": {
       "model_id": "36402e68a7d14fafa071b6c468fe55be",
       "version_major": 2,
       "version_minor": 0
      },
      "text/plain": [
       "Button(description='Refresh', style=ButtonStyle())"
      ]
     },
     "metadata": {},
     "output_type": "display_data"
    },
    {
     "data": {
      "application/vnd.jupyter.widget-view+json": {
       "model_id": "2807819df89a42fea454b6576b6d7bb9",
       "version_major": 2,
       "version_minor": 0
      },
      "text/plain": [
       "Output()"
      ]
     },
     "metadata": {},
     "output_type": "display_data"
    }
   ],
   "source": [
    "# read last batch processing time\n",
    "time_file_object = open(\"csv/sim_time.pickle\",'rb')  \n",
    "last_batch_processing_time = pickle.load(time_file_object)\n",
    "\n",
    "# obtain number of cars\n",
    "with open('scenarios/abm.json') as scenario_file:\n",
    "    abm = json.load(scenario_file)\n",
    "\n",
    "num_cars=abm[\"CARMODEL\"][\"scenarios\"][\"scenario\"][\"agents\"][1][\"count\"]\n",
    "car_tuples = [(str(i)+\"_car\",str(i)+\"_car\") for i in range(1,num_cars+1)]\n",
    "\n",
    "car_index=widgets.Dropdown(\n",
    "    options=car_tuples,\n",
    "    value='1_car',\n",
    "    description='choose car:'\n",
    ")\n",
    "\n",
    "query_time=widgets.IntSlider(min=0, max=last_batch_processing_time+1440, step=1, description='query time:')\n",
    "\n",
    "run_button = widgets.Button(description=\"Run Query\")\n",
    "refresh_button = widgets.Button(description=\"Refresh\")\n",
    "\n",
    "output = widgets.Output()\n",
    "\n",
    "display(car_index,query_time,run_button,refresh_button,output)\n",
    "\n",
    "def on_run_clicked(b):\n",
    "    with output:\n",
    "        output.clear_output()\n",
    "        es_mixed_query(car_index.value,query_time.value)\n",
    "    \n",
    "def on_refresh_clicked(b):\n",
    "    with output:\n",
    "        output.clear_output()\n",
    "        time_file_object = open(\"csv/sim_time.pickle\",'rb')  \n",
    "        last_batch_processing_time = pickle.load(time_file_object)\n",
    "        query_time.max=last_batch_processing_time+1440\n",
    "        \n",
    "\n",
    "run_button.on_click(on_run_clicked)\n",
    "refresh_button.on_click(on_refresh_clicked)"
   ]
  },
  {
   "cell_type": "code",
   "execution_count": null,
   "metadata": {},
   "outputs": [],
   "source": []
  }
 ],
 "metadata": {
  "kernelspec": {
   "display_name": "Python 3",
   "language": "python",
   "name": "python3"
  },
  "language_info": {
   "codemirror_mode": {
    "name": "ipython",
    "version": 3
   },
   "file_extension": ".py",
   "mimetype": "text/x-python",
   "name": "python",
   "nbconvert_exporter": "python",
   "pygments_lexer": "ipython3",
   "version": "3.6.8"
  }
 },
 "nbformat": 4,
 "nbformat_minor": 4
}
